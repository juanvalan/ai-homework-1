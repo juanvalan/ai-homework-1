{
 "cells": [
  {
   "cell_type": "markdown",
   "id": "341ba2d0",
   "metadata": {},
   "source": [
    "# Homework"
   ]
  },
  {
   "cell_type": "markdown",
   "id": "9e28b7f5",
   "metadata": {},
   "source": [
    "Juan Pablo Gomez Mendez - jupgomezme@unal.edu.co\n",
    "\n",
    "Juan David Valencia Angulo - judvalenciaan@unal.edu.co"
   ]
  },
  {
   "cell_type": "code",
   "execution_count": 14,
   "id": "cb6620fb",
   "metadata": {},
   "outputs": [],
   "source": [
    "import math\n",
    "import random\n",
    "import numpy as np\n",
    "import pandas as pd\n",
    "import multiprocessing as mp\n",
    "from functools import partial\n",
    "from rich.progress import track\n",
    "from rich.progress import Console\n",
    "import matplotlib.pyplot as plt\n",
    "\n",
    "console = Console()"
   ]
  },
  {
   "cell_type": "markdown",
   "id": "1cd08e99",
   "metadata": {},
   "source": [
    "Calculate the fitness"
   ]
  },
  {
   "cell_type": "code",
   "execution_count": 15,
   "id": "21d115a1",
   "metadata": {},
   "outputs": [],
   "source": [
    "def fitness_tsp(path, tsp):\n",
    "    # Return the cost of the path\n",
    "    cost = 0\n",
    "    for idx, city in enumerate(path[:-1]):\n",
    "        cost += tsp[city, path[idx+1]]\n",
    "    return -cost"
   ]
  },
  {
   "cell_type": "markdown",
   "id": "57726567",
   "metadata": {},
   "source": [
    "Calculate neighbors"
   ]
  },
  {
   "cell_type": "code",
   "execution_count": 16,
   "id": "ce93fd3a",
   "metadata": {},
   "outputs": [],
   "source": [
    "def neighbors(currentNode):\n",
    "    \"\"\"\n",
    "    Returns a list of nodes, the neighbors of the currentNode.\n",
    "    The neighbors are defined as the permutations of the nodes directly\n",
    "    next to the others:\n",
    "    For example, the neighbors of 1234 will be\n",
    "    1234 -> 2134, 1324, 1243\n",
    "    >>> sorted(neighbors([1,2,3,4]))\n",
    "    [[1, 2, 4, 3], [1, 3, 2, 4], [2, 1, 3, 4]]\n",
    "    \"\"\"\n",
    "    nodes = []\n",
    "\n",
    "    for idx, _ in enumerate(currentNode[:-1]):\n",
    "        copy = currentNode.copy()\n",
    "        copy[idx], copy[idx+1] = copy[idx+1], copy[idx]\n",
    "        nodes.append(copy)\n",
    "    return nodes"
   ]
  },
  {
   "cell_type": "markdown",
   "id": "8992291e",
   "metadata": {},
   "source": [
    "# Random Restart Hill Climbing\n",
    "\n",
    "States are a list of vertices represented by a list of integers. Each move is represented by a permutation between two elements. It uses multiprocessing for faster runtime."
   ]
  },
  {
   "cell_type": "code",
   "execution_count": 17,
   "id": "0928c644",
   "metadata": {},
   "outputs": [],
   "source": [
    "def hill_climbing(current_node, tsp):\n",
    "    while True:\n",
    "        L = neighbors(current_node)\n",
    "        next_eval = -float('inf')\n",
    "        next_node = None\n",
    "        for path in L:\n",
    "            if fitness_tsp(path, tsp) > next_eval:\n",
    "                next_node = path\n",
    "                next_eval = fitness_tsp(path, tsp)\n",
    "        if next_eval <= fitness_tsp(current_node, tsp):\n",
    "            return current_node\n",
    "        current_node = next_node\n",
    "\n",
    "def random_restart_hill_climbing(tsp, **kwargs):\n",
    "    \"\"\"\n",
    "    Run the random restart hill climbing algorithm\n",
    "\n",
    "    Args:\n",
    "        - tsp: Matrix representation of a graph that is an instance of the\n",
    "        Traveling Salesman problem.\n",
    "        - kwargs: Options for the algorithm. Meta-values\n",
    "\n",
    "    Returns:\n",
    "        - A possible solution of the TSP through the algorithm\n",
    "    \"\"\"\n",
    "    # List of vertices V\n",
    "    V = list(range(len(tsp)))\n",
    "\n",
    "    # epoch: (number of hill-climbing instances)\n",
    "    epoch = kwargs.get('epoch', 100)\n",
    "\n",
    "    # Create a list for all possible initial states.\n",
    "    nodes = list(map(lambda _: V.copy(), range(epoch)))\n",
    "\n",
    "    # Each state is a list of vertices\n",
    "    # a possible initial state is a permutation of the list of vertices\n",
    "    # do random.shuffle to create a random permutation of the list of vertices\n",
    "    # do that to each element in the list (each state) to create a list starting\n",
    "    # points.\n",
    "    for idx, _ in enumerate(nodes):\n",
    "        random.shuffle(nodes[idx])\n",
    "\n",
    "    # Use the library multiprocessing to save time (use all the processes)\n",
    "    with mp.Pool(processes=kwargs.get('processes')) as executer:\n",
    "        # Partial is used to create other function from other functions\n",
    "        # f(x, y) = x + y...so partial(f, x=2) = 2 + y\n",
    "\n",
    "        # imap is to have a iterative to keep track of the multiprocessing\n",
    "        # track is a function from the rich library of python for printing the progress bar\n",
    "        results = list(executer.imap(partial(hill_climbing, tsp=tsp), nodes))\n",
    "\n",
    "    # Find the best path using max and the fitness as a key\n",
    "    return max(results, key=lambda k: fitness_tsp(k, tsp))"
   ]
  },
  {
   "cell_type": "markdown",
   "id": "a6acd875",
   "metadata": {},
   "source": [
    "## Simulated Annealing\n",
    "\n",
    "Simulated annealing can use the same code base as the random restart hill climbing. Using classic temperature function."
   ]
  },
  {
   "cell_type": "code",
   "execution_count": 18,
   "id": "35d400f0",
   "metadata": {},
   "outputs": [],
   "source": [
    "def temperature(k, **kwargs):\n",
    "    return (1 - (k+1)/kwargs.get('k_max'))*kwargs.get('temp_const')\n",
    "\n",
    "def P(e, e_p, T):\n",
    "    return math.exp((e_p - e)/T)\n",
    "\n",
    "def simulated_annealing(tsp, **kwargs):\n",
    "    \"\"\"\n",
    "    Simulated annealing\n",
    "    \"\"\"\n",
    "    state = list(range(len(tsp)))\n",
    "    random.shuffle(state)\n",
    "    epoch = kwargs.get('epoch', 100)\n",
    "    for k in range(epoch):\n",
    "        T = temperature(k, k_max=(epoch), temp_const=kwargs.get('temp_const', 2))\n",
    "        new_state = random.choice(neighbors(state))\n",
    "\n",
    "        if P(fitness_tsp(state, tsp), fitness_tsp(new_state, tsp), T) >= random.random():\n",
    "            #print(fitness_tsp(new_state, tsp))\n",
    "            state = new_state\n",
    "    return state"
   ]
  },
  {
   "cell_type": "markdown",
   "id": "8fe8c5a2",
   "metadata": {},
   "source": [
    "## Genetic Algorithm"
   ]
  },
  {
   "cell_type": "markdown",
   "id": "91bab33f",
   "metadata": {},
   "source": [
    "Factorial function using dynamic memory"
   ]
  },
  {
   "cell_type": "code",
   "execution_count": 19,
   "id": "d7270ff5",
   "metadata": {},
   "outputs": [],
   "source": [
    "fact_memory = [1]\n",
    "\n",
    "def fact(n: int) -> int:\n",
    "    \"\"\"\n",
    "    Calculating factorial with dynamic programming.\n",
    "    \"\"\"\n",
    "    if n == 0:\n",
    "        return 1\n",
    "    if n < len(fact_memory):\n",
    "        return fact_memory[n]\n",
    "    for i in range(len(fact_memory), n+1):\n",
    "        fact_memory.append(i * fact_memory[i-1])\n",
    "    return fact_memory[n]\n"
   ]
  },
  {
   "cell_type": "markdown",
   "id": "558ab585",
   "metadata": {},
   "source": [
    "Using integers to enumerate all possible permutations and bit-mask operations for mutation and crossover."
   ]
  },
  {
   "cell_type": "code",
   "execution_count": 20,
   "id": "8d22a9cb",
   "metadata": {},
   "outputs": [],
   "source": [
    "def decodification(genome, tsp):\n",
    "    V = list(range(len(tsp)))\n",
    "    solution = []\n",
    "    for k in map(fact, reversed(range(len(tsp)))):\n",
    "        selection = genome // k\n",
    "        genome %= k\n",
    "        #print(selection)\n",
    "        solution.append( V.pop(selection) )\n",
    "    return solution\n",
    "\n",
    "def mutation(genome, tsp, **kwargs):\n",
    "    binary_length = kwargs.get('binary_length', math.ceil(math.log2(fact(len(tsp)))))\n",
    "    if kwargs.get('prob', 0.7) >= random.random():\n",
    "        new_genome = genome ^ (1 << random.randint(0, binary_length - 1))\n",
    "        while fact(len(tsp)) <= new_genome:\n",
    "            new_genome = genome ^ (1 << random.randint(0, binary_length - 1))\n",
    "        return new_genome\n",
    "    return genome\n",
    "\n",
    "def cross(genome_1, genome_2, tsp, **kwargs):\n",
    "    binary_length = kwargs.get('binary_length', math.ceil(math.log2(fact(len(tsp)))))\n",
    "    if kwargs.get('prob', 0.7) >= random.random():\n",
    "        crossover_point = random.randint(0, binary_length - 1)\n",
    "        mask_1 = (1 << crossover_point) - 1\n",
    "        mask_2 = ((1 << binary_length) - 1 ) ^ mask_1\n",
    "        child_one = (genome_1 & mask_1) | (genome_2 & mask_2)\n",
    "        child_two = (genome_2 & mask_1) | (genome_1 & mask_2 )\n",
    "        return [child_one, child_two]\n",
    "    return [None, None]\n"
   ]
  },
  {
   "cell_type": "markdown",
   "id": "51f6d948",
   "metadata": {},
   "source": [
    "Genetic Algorithm"
   ]
  },
  {
   "cell_type": "code",
   "execution_count": 21,
   "id": "46e07ea9",
   "metadata": {},
   "outputs": [],
   "source": [
    "def genetic_algorithm(tsp, **kwargs):\n",
    "    V = list(range(len(tsp)))\n",
    "\n",
    "    population = [random.randint(0, fact(len(tsp)) - 1) for _ in range(kwargs.get('population_size', 10))]\n",
    "    population = [ ( fitness_tsp(decodification(genome, tsp), tsp), genome  ) for genome in population ]\n",
    "\n",
    "    binary_length = math.ceil(math.log2(fact(len(tsp))))\n",
    "    for _ in range(kwargs.get('epoch', 100)):\n",
    "        new_population = []\n",
    "        for idx, (fitness, genome) in enumerate(population):\n",
    "             new_genome = mutation(genome, tsp)\n",
    "             new_population.append( (fitness_tsp(decodification(new_genome, tsp), tsp), new_genome ) )\n",
    "             if idx < len(population) - 1:\n",
    "                _, next_genome = population[idx + 1]\n",
    "                new_genome_1, new_genome_2 = cross(genome, next_genome, tsp)\n",
    "                if new_genome_1 and new_genome_1 <= fact(len(tsp)):\n",
    "                    new_population.append( (fitness_tsp(decodification(new_genome_1, tsp), tsp), new_genome_1) )\n",
    "                if new_genome_2 and new_genome_2 <= fact(len(tsp)):\n",
    "                    new_population.append( (fitness_tsp(decodification(new_genome_2, tsp), tsp), new_genome_2) )\n",
    "\n",
    "        population += new_population\n",
    "        population.sort(reverse=True)\n",
    "        # Filter out to keep population\n",
    "        population = population[:kwargs.get('offspring_size', 5)]\n",
    "        for _ in range(len(population) - kwargs.get('population_size', 10)):\n",
    "            random_genome = random.randint(0, fact(len(tsp)) - 1)\n",
    "            population.append(( fitness_tsp(decodification(random_genome, tsp), tsp), random_genome  ))\n",
    "\n",
    "\n",
    "    _, gen = max(population)\n",
    "    solution = decodification(gen, tsp)\n",
    "    return solution\n"
   ]
  },
  {
   "cell_type": "markdown",
   "id": "aa996b11",
   "metadata": {},
   "source": [
    "## Random points of a circle"
   ]
  },
  {
   "cell_type": "code",
   "execution_count": 22,
   "id": "99bae19b",
   "metadata": {},
   "outputs": [],
   "source": [
    "def generate_random_points(N):\n",
    "    points = []\n",
    "    for _ in range(N):\n",
    "        r, theta = [500, 2*math.pi*random.random()]\n",
    "        x = r * math.cos(theta)\n",
    "        y = r * math.sin(theta)\n",
    "        points.append((x, y))\n",
    "\n",
    "    matrix = [ [0]*N for _ in range(N) ]\n",
    "    for idx, (i,j) in enumerate(points):\n",
    "        for idy, (m, l) in enumerate(points):\n",
    "            matrix[idx][idy] = math.sqrt( (i - m)**2 + (j - l)**2 )\n",
    "    return matrix"
   ]
  },
  {
   "cell_type": "markdown",
   "id": "fd4c0e01",
   "metadata": {},
   "source": [
    "Run the script"
   ]
  },
  {
   "cell_type": "code",
   "execution_count": 23,
   "id": "31db358d",
   "metadata": {},
   "outputs": [
    {
     "data": {
      "application/vnd.jupyter.widget-view+json": {
       "model_id": "81d33b954ea44b55bef4fd21796c7480",
       "version_major": 2,
       "version_minor": 0
      },
      "text/plain": [
       "Output()"
      ]
     },
     "metadata": {},
     "output_type": "display_data"
    },
    {
     "data": {
      "text/html": [
       "<pre style=\"white-space:pre;overflow-x:auto;line-height:normal;font-family:Menlo,'DejaVu Sans Mono',consolas,'Courier New',monospace\">/tmp/ipykernel_55890/1840356995.py:5: RuntimeWarning: divide by zero encountered in \n",
       "double_scalars\n",
       "  return math.exp((e_p - e)/T)\n",
       "</pre>\n"
      ],
      "text/plain": [
       "/tmp/ipykernel_55890/1840356995.py:5: RuntimeWarning: divide by zero encountered in \n",
       "double_scalars\n",
       "  return math.exp((e_p - e)/T)\n"
      ]
     },
     "metadata": {},
     "output_type": "display_data"
    },
    {
     "data": {
      "text/html": [
       "<pre style=\"white-space:pre;overflow-x:auto;line-height:normal;font-family:Menlo,'DejaVu Sans Mono',consolas,'Courier New',monospace\"></pre>\n"
      ],
      "text/plain": []
     },
     "metadata": {},
     "output_type": "display_data"
    },
    {
     "data": {
      "text/html": [
       "<pre style=\"white-space:pre;overflow-x:auto;line-height:normal;font-family:Menlo,'DejaVu Sans Mono',consolas,'Courier New',monospace\">\n",
       "</pre>\n"
      ],
      "text/plain": [
       "\n"
      ]
     },
     "metadata": {},
     "output_type": "display_data"
    },
    {
     "data": {
      "image/png": "[encoded data removed]",
      "text/plain": [
       "<Figure size 432x288 with 1 Axes>"
      ]
     },
     "metadata": {
      "needs_background": "light"
     },
     "output_type": "display_data"
    }
   ],
   "source": [
    "rrhc = []\n",
    "sa = []\n",
    "ga = []\n",
    "for i in track(range(5,60)):\n",
    "    c = np.array(generate_random_points(30))\n",
    "    result = random_restart_hill_climbing(c, epoch=1000)\n",
    "    rrhc.append(fitness_tsp(result, c))\n",
    "    result = simulated_annealing(c, epoch=1000, temp_const=5.5)\n",
    "    sa.append(fitness_tsp(result, c))\n",
    "    result = genetic_algorithm(c, epoch=1000, population_size=40, offspring_size=30)\n",
    "    ga.append(fitness_tsp(result, c))\n",
    "\n",
    "info = pd.DataFrame([rrhc, sa, ga]).T\n",
    "info.columns = ['Random-Restart', 'Simulated Annealing', 'Genetic Algorithms']\n",
    "info.plot()\n",
    "plt.show()"
   ]
  },
  {
   "cell_type": "markdown",
   "id": "92becddc",
   "metadata": {},
   "source": [
    "# Quadratic Assignment Problem"
   ]
  },
  {
   "cell_type": "code",
   "execution_count": 29,
   "id": "45e0522a",
   "metadata": {},
   "outputs": [],
   "source": [
    "file_text = open('nug25.dat', 'r').read()\n",
    "size = int(file_text.split('\\n\\n')[0].split('\\n')[1].strip())\n",
    "m_1 = file_text.split('\\n\\n')[1].split('\\n')\n",
    "m_2 = file_text.split('\\n\\n')[2].split('\\n')\n",
    "\n",
    "m_1 = list(map(lambda l: l.split(), m_1))\n",
    "m_2 = list(map(lambda l: l.split(), m_2))\n",
    "\n",
    "distances = np.array(m_1).astype(float)\n",
    "flows = np.array(m_2).astype(float)"
   ]
  },
  {
   "cell_type": "code",
   "execution_count": 24,
   "id": "15421b2e",
   "metadata": {},
   "outputs": [],
   "source": [
    "def fitness(solution):\n",
    "    sum = 0\n",
    "    for a in range(size):\n",
    "        for b in range(size):\n",
    "            sum += flows[a][b] * distances[solution[a]][solution[b]]\n",
    "    return sum"
   ]
  },
  {
   "cell_type": "markdown",
   "id": "20a96d4b",
   "metadata": {},
   "source": [
    "Redefine functions for this problem"
   ]
  },
  {
   "cell_type": "code",
   "execution_count": 31,
   "id": "4a3e3c5f",
   "metadata": {},
   "outputs": [],
   "source": [
    "def decodification(genome):\n",
    "    V = list(range(size))\n",
    "    solution = []\n",
    "    for k in map(fact, reversed(range(size))):\n",
    "        selection = genome // k\n",
    "        genome %= k\n",
    "        #print(selection)\n",
    "        solution.append( V.pop(selection) )\n",
    "    return solution\n",
    "\n",
    "def mutation(genome, **kwargs):\n",
    "    binary_length = kwargs.get('binary_length', math.ceil(math.log2(fact(size))))\n",
    "    if kwargs.get('prob', 0.7) >= random.random():\n",
    "        new_genome = genome ^ (1 << random.randint(0, binary_length - 1))\n",
    "        while fact(size) <= new_genome:\n",
    "            new_genome = genome ^ (1 << random.randint(0, binary_length - 1))\n",
    "        return new_genome\n",
    "    return genome\n",
    "\n",
    "def cross(genome_1, genome_2, **kwargs):\n",
    "    binary_length = kwargs.get('binary_length', math.ceil(math.log2(fact(size))))\n",
    "    if kwargs.get('prob', 0.7) >= random.random():\n",
    "        crossover_point = random.randint(0, binary_length - 1)\n",
    "        mask_1 = (1 << crossover_point) - 1\n",
    "        mask_2 = ((1 << binary_length) - 1 ) ^ mask_1\n",
    "        child_one = (genome_1 & mask_1) | (genome_2 & mask_2)\n",
    "        child_two = (genome_2 & mask_1) | (genome_1 & mask_2 )\n",
    "        return [child_one, child_two]\n",
    "    return [None, None]\n"
   ]
  },
  {
   "cell_type": "code",
   "execution_count": 32,
   "id": "14417980",
   "metadata": {},
   "outputs": [],
   "source": [
    "def genetic_algorithm(**kwargs):\n",
    "    V = list(range(size))\n",
    "\n",
    "    population = [random.randint(0, fact(size) - 1) for _ in range(kwargs.get('population_size', 10))]\n",
    "    population = [ ( fitness(decodification(genome)), genome  ) for genome in population ]\n",
    "\n",
    "    binary_length = math.ceil(math.log2(fact(size)))\n",
    "    for _ in track(range(kwargs.get('epoch', 100))):\n",
    "        new_population = []\n",
    "        for idx, (fit, genome) in enumerate(population):\n",
    "             new_genome = mutation(genome)\n",
    "             for _ in range(kwargs.get('num_mutations', 10)):\n",
    "                 new_genome = mutation(new_genome)\n",
    "             new_population.append( (fitness(decodification(new_genome)), new_genome ) )\n",
    "             if idx < 5:\n",
    "                 _, next_genome = random.choice(population[:3] + population[-3:])\n",
    "                 new_genome_1, new_genome_2 = cross(genome, next_genome)\n",
    "                 if new_genome_1 and new_genome_1 <= fact(size):\n",
    "                     new_population.append( (fitness(decodification(new_genome_1)), new_genome_1) )\n",
    "                 if new_genome_2 and new_genome_2 <= fact(size):\n",
    "                     new_population.append( (fitness(decodification(new_genome_2)), new_genome_2) )\n",
    "\n",
    "        population += new_population\n",
    "\n",
    "\n",
    "        # Filter out to keep population\n",
    "        for _ in range(len(population) - kwargs.get('random_offspring')):\n",
    "            random_genome = random.randint(0, fact(size) - 1)\n",
    "            population.append(( fitness(decodification(random_genome)), random_genome  ))\n",
    "        population.sort()\n",
    "        #print(population)\n",
    "        population = population[:kwargs.get('population_size')]\n",
    "\n",
    "\n",
    "\n",
    "    _, gen = max(population)\n",
    "    solution = decodification(gen)\n",
    "    return solution"
   ]
  },
  {
   "cell_type": "code",
   "execution_count": 36,
   "id": "961d17b8",
   "metadata": {},
   "outputs": [
    {
     "data": {
      "application/vnd.jupyter.widget-view+json": {
       "model_id": "99165ba9a5d54841b2a7bf76a7df6501",
       "version_major": 2,
       "version_minor": 0
      },
      "text/plain": [
       "Output()"
      ]
     },
     "metadata": {},
     "output_type": "display_data"
    },
    {
     "data": {
      "text/html": [
       "<pre style=\"white-space:pre;overflow-x:auto;line-height:normal;font-family:Menlo,'DejaVu Sans Mono',consolas,'Courier New',monospace\"></pre>\n"
      ],
      "text/plain": []
     },
     "metadata": {},
     "output_type": "display_data"
    },
    {
     "data": {
      "text/html": [
       "<pre style=\"white-space:pre;overflow-x:auto;line-height:normal;font-family:Menlo,'DejaVu Sans Mono',consolas,'Courier New',monospace\">\n",
       "</pre>\n"
      ],
      "text/plain": [
       "\n"
      ]
     },
     "metadata": {},
     "output_type": "display_data"
    },
    {
     "name": "stdout",
     "output_type": "stream",
     "text": [
      "[24, 1, 14, 7, 0, 21, 13, 20, 15, 12, 10, 5, 4, 16, 19, 22, 8, 9, 23, 11, 18, 17, 2, 3, 6] 4302.0\n"
     ]
    }
   ],
   "source": [
    "result = genetic_algorithm(epoch=1000, population_size=100, num_mutations=50, random_offspring=10)\n",
    "print(result, fitness(result))"
   ]
  },
  {
   "cell_type": "code",
   "execution_count": null,
   "id": "76c7a936",
   "metadata": {},
   "outputs": [],
   "source": []
  }
 ],
 "metadata": {
  "kernelspec": {
   "display_name": "Python 3 (ipykernel)",
   "language": "python",
   "name": "python3"
  },
  "language_info": {
   "codemirror_mode": {
    "name": "ipython",
    "version": 3
   },
   "file_extension": ".py",
   "mimetype": "text/x-python",
   "name": "python",
   "nbconvert_exporter": "python",
   "pygments_lexer": "ipython3",
   "version": "3.9.7"
  }
 },
 "nbformat": 4,
 "nbformat_minor": 5
}
